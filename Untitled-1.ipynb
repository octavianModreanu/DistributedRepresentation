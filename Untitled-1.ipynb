{
 "cells": [
  {
   "cell_type": "code",
   "execution_count": null,
   "metadata": {},
   "outputs": [],
   "source": [
    "    \"\"\"\n",
    "    Okay so my main thing right now is that i don't know where to go from here. I have the basic\n",
    "    functionalities of a graph, and i think what i need right now is to set up the weights between different nodes\n",
    "    but before i do that i need to set up an example graph that i can use to test stuff.\n",
    "    \n",
    "    The thing is with that is that the entry to this whole thing should set up a node which connects the category nodes with it\n",
    "    I should do that first so it will look something of the following:\n",
    "\n",
    "        Entry field: Sam 20 Burglar single Shark HighSchool    \n",
    "\n",
    "            input = entry.get().split(\" \")\n",
    "            \n",
    "             # This function should categorise the input taken into distinct categories and then add the nodes to the graph\n",
    "              # The program knows where to put these things based on training\n",
    "            \n",
    "             recognise_and_add_node_to_categories(input)\n",
    "             add_node(person)       # as of now i cannot just add more than one node with a similar name\n",
    "                                        #but i think that's an easy problem to solve\n",
    "             for _ in input\n",
    "                if _ is in net\n",
    "                    add_conn(person, _)\n",
    "                    \n",
    "    This is the point where weights would come in as well, the connections with the person nodes and weights would be excitatory\n",
    "    and would start from wij = 0.1 (which is the amount of which unit j (sending) influences unit i(receiving)) giving the following\n",
    "    activation formula: inputij = aj x wij\n",
    "    \n",
    "    But I also need to set up the activation of the nodes which would get called each time one of the category nodes are activated\n",
    "    by the entry field.\n",
    "    \n",
    "    \n",
    "            \n",
    "            \n",
    "    \"\"\""
   ]
  }
 ],
 "metadata": {
  "language_info": {
   "name": "python"
  }
 },
 "nbformat": 4,
 "nbformat_minor": 2
}
