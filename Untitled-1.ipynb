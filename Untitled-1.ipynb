{
 "cells": [
  {
   "cell_type": "code",
   "execution_count": null,
   "metadata": {},
   "outputs": [],
   "source": [
    "    \"\"\"\n",
    "    Okay so my main thing right now is that i don't know where to go from here. I have the basic\n",
    "    functionalities of a graph, and i think what i need right now is to set up the weights between different nodes\n",
    "    but before i do that i need to set up an example graph that i can use to test stuff.\n",
    "    \n",
    "    The thing is with that is that the entry to this whole thing should set up a node which connects the category nodes with it\n",
    "    I should do that first so it will look something of the following:\n",
    "\n",
    "        Entry field: Sam 20 Burglar single Shark HighSchool    \n",
    "\n",
    "            input = entry.get().split(\" \")\n",
    "            \n",
    "             recognise_and_add_node_to_categories(input)    # This function should categorise the input taken into distinct categories and then add the nodes to the graph\n",
    "                                                                # The program knows where to put these things based on training\n",
    "\n",
    "             add_node(person)       # as of now i cannot just add more than one node with a similar name\n",
    "                                        #but i think that's an easy problem to solve\n",
    "             for _ in input\n",
    "                if _ is in net\n",
    "                    add_conn(person, _)\n",
    "                    \n",
    "    This is the point where weights would come in as well, the connections with the person nodes and weights would be excitatory\n",
    "    and would start from wij = 0.1 (which is the amount of which unit j (sending) influences unit i(receiving)) giving the following\n",
    "    activation formula: inputij = aj x wij\n",
    "    \n",
    "    But I also need to set up the activation of the nodes which would get called each time one of the category nodes are activated\n",
    "    by the entry field.\n",
    "    \n",
    "    The inhibitory connections should also be established. Any nodes with the same attribute should set up an inhibitory connection\n",
    "    between them\n",
    "    \n",
    "\n",
    "ACTIVATIONS\n",
    "    Idk how to do this tbh. for now, i got a way to represent nodes and connections through matrices and lists but i don't really know\n",
    "    where to go from here. I mean they should get activated whenever there's a mention of the node in the entry field. They should connect\n",
    "    to each other, and if there's no node, there should be one while expanding the connections matrix. \n",
    "            \n",
    "            \n",
    "Done with activations but now i need to clear up what am i going do in regards to training / recall. Right now i got the bare bones\n",
    "when it comes to the backend and the ui i got rn could serve as a training ui rather than the recall ui. But then i need to fix up the\n",
    "training ui so it clusters around attributes and whatnot -> Make it more readable. \n",
    "    \"\"\""
   ]
  }
 ],
 "metadata": {
  "language_info": {
   "name": "python"
  }
 },
 "nbformat": 4,
 "nbformat_minor": 2
}
